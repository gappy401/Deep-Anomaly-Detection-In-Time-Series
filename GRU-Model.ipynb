{
 "cells": [
  {
   "cell_type": "code",
   "execution_count": 1,
   "metadata": {},
   "outputs": [
    {
     "name": "stdout",
     "output_type": "stream",
     "text": [
      "Preparing global data...\n",
      "Preparing client data...\n",
      "Creating and training global model...\n",
      "Epoch 1/10\n",
      "5145/5145 - 16s - 3ms/step - accuracy: 0.9731 - loss: 0.0544\n",
      "Epoch 2/10\n",
      "5145/5145 - 11s - 2ms/step - accuracy: 0.9832 - loss: 0.0367\n",
      "Epoch 3/10\n",
      "5145/5145 - 11s - 2ms/step - accuracy: 0.9898 - loss: 0.0268\n",
      "Epoch 4/10\n",
      "5145/5145 - 11s - 2ms/step - accuracy: 0.9912 - loss: 0.0245\n",
      "Epoch 5/10\n",
      "5145/5145 - 11s - 2ms/step - accuracy: 0.9929 - loss: 0.0207\n",
      "Epoch 6/10\n",
      "5145/5145 - 11s - 2ms/step - accuracy: 0.9937 - loss: 0.0195\n",
      "Epoch 7/10\n",
      "5145/5145 - 11s - 2ms/step - accuracy: 0.9935 - loss: 0.0191\n",
      "Epoch 8/10\n",
      "5145/5145 - 11s - 2ms/step - accuracy: 0.9941 - loss: 0.0183\n",
      "Epoch 9/10\n",
      "5145/5145 - 12s - 2ms/step - accuracy: 0.9944 - loss: 0.0178\n",
      "Epoch 10/10\n",
      "5145/5145 - 11s - 2ms/step - accuracy: 0.9947 - loss: 0.0172\n",
      "Time to train global model: 114.72 seconds.\n",
      "Fine-tuning model on client data...\n"
     ]
    },
    {
     "name": "stderr",
     "output_type": "stream",
     "text": [
      "Clients:   0%|          | 0/2 [00:00<?, ?client/s]"
     ]
    },
    {
     "name": "stdout",
     "output_type": "stream",
     "text": [
      "Fine-tuning on Client 1...\n",
      "Epoch 1/5\n",
      "2707/2707 - 6s - 2ms/step - accuracy: 0.9968 - loss: 0.0110\n",
      "Epoch 2/5\n",
      "2707/2707 - 6s - 2ms/step - accuracy: 0.9975 - loss: 0.0071\n",
      "Epoch 3/5\n",
      "2707/2707 - 6s - 2ms/step - accuracy: 0.9975 - loss: 0.0071\n",
      "Epoch 4/5\n",
      "2707/2707 - 6s - 2ms/step - accuracy: 0.9976 - loss: 0.0062\n",
      "Epoch 5/5\n",
      "2707/2707 - 6s - 2ms/step - accuracy: 0.9975 - loss: 0.0064\n"
     ]
    },
    {
     "name": "stderr",
     "output_type": "stream",
     "text": [
      "Clients:  50%|█████     | 1/2 [00:28<00:28, 28.94s/client]"
     ]
    },
    {
     "name": "stdout",
     "output_type": "stream",
     "text": [
      "Time to fine-tune on Client 1: 28.94 seconds.\n",
      "Fine-tuning on Client 2...\n",
      "Epoch 1/5\n",
      "2783/2783 - 6s - 2ms/step - accuracy: 0.9965 - loss: 0.0110\n",
      "Epoch 2/5\n",
      "2783/2783 - 6s - 2ms/step - accuracy: 0.9982 - loss: 0.0062\n",
      "Epoch 3/5\n",
      "2783/2783 - 6s - 2ms/step - accuracy: 0.9986 - loss: 0.0056\n",
      "Epoch 4/5\n",
      "2783/2783 - 6s - 2ms/step - accuracy: 0.9987 - loss: 0.0051\n",
      "Epoch 5/5\n",
      "2783/2783 - 6s - 2ms/step - accuracy: 0.9987 - loss: 0.0050\n"
     ]
    },
    {
     "name": "stderr",
     "output_type": "stream",
     "text": [
      "Clients: 100%|██████████| 2/2 [00:59<00:00, 29.72s/client]"
     ]
    },
    {
     "name": "stdout",
     "output_type": "stream",
     "text": [
      "Time to fine-tune on Client 2: 30.50 seconds.\n",
      "Evaluating the updated global model...\n"
     ]
    },
    {
     "name": "stderr",
     "output_type": "stream",
     "text": [
      "\n"
     ]
    },
    {
     "name": "stdout",
     "output_type": "stream",
     "text": [
      "\u001b[1m5145/5145\u001b[0m \u001b[32m━━━━━━━━━━━━━━━━━━━━\u001b[0m\u001b[37m\u001b[0m \u001b[1m7s\u001b[0m 1ms/step\n",
      "Model Classification Report:\n",
      "              precision    recall  f1-score   support\n",
      "\n",
      "           0       0.97      1.00      0.99    160227\n",
      "           1       0.00      0.00      0.00      4386\n",
      "\n",
      "    accuracy                           0.97    164613\n",
      "   macro avg       0.49      0.50      0.49    164613\n",
      "weighted avg       0.95      0.97      0.96    164613\n",
      "\n",
      "Model Accuracy Score: 0.9733435390886503\n",
      "Federated learning completed.\n"
     ]
    }
   ],
   "source": [
    "import numpy as np\n",
    "import pandas as pd\n",
    "from tensorflow.keras.models import Model\n",
    "from tensorflow.keras.layers import Input, GRU, Dense, Dropout\n",
    "from tensorflow.keras.optimizers import Adam\n",
    "from sklearn.utils import shuffle\n",
    "from sklearn.metrics import classification_report, accuracy_score\n",
    "from tqdm import tqdm\n",
    "import time\n",
    "import tensorflow as tf \n",
    "import matplotlib.pyplot as plt\n",
    "\n",
    "def load_and_preprocess_data(file_path):\n",
    "    data = pd.read_csv(file_path)\n",
    "    data = data.dropna()  \n",
    "    return data\n",
    "\n",
    "def prepare_features_and_labels(data):\n",
    "    features = ['TP2', 'DV_pressure', 'Oil_temperature', 'Motor_current', 'DV_eletric', 'Towers', 'LPS', 'Oil_level', 'Caudal_impulses']\n",
    "    target = 'class'\n",
    "    X = data[features].values\n",
    "    y = data[target].values\n",
    "    return X, y\n",
    "\n",
    "def balance_and_sample(X, y, sample_fraction=0.4):\n",
    "    X, y = shuffle(X, y, random_state=42)\n",
    "    sample_size = int(sample_fraction * len(X))\n",
    "    X_sample, y_sample = X[:sample_size], y[:sample_size]\n",
    "    \n",
    "    classes = np.unique(y_sample)\n",
    "    max_samples = max([np.sum(y_sample == cls) for cls in classes])\n",
    "    \n",
    "    X_balanced = []\n",
    "    y_balanced = []\n",
    "    \n",
    "    for cls in classes:\n",
    "        X_cls = X_sample[y_sample == cls]\n",
    "        y_cls = y_sample[y_sample == cls]\n",
    "        \n",
    "        X_balanced.append(X_cls[:max_samples])\n",
    "        y_balanced.append(y_cls[:max_samples])\n",
    "    \n",
    "    X_balanced = np.vstack(X_balanced)\n",
    "    y_balanced = np.hstack(y_balanced)\n",
    "    \n",
    "    return X_balanced, y_balanced\n",
    "\n",
    "def preprocess_data(data):\n",
    "    if 'timestamp' not in data.columns or 'class' not in data.columns:\n",
    "        raise ValueError(\"Data must contain 'timestamp' and 'class' columns.\")\n",
    "    \n",
    "    data['timestamp'] = pd.to_datetime(data['timestamp'], errors='coerce')\n",
    "    data = data.dropna(subset=['timestamp'])\n",
    "    data['month'] = data['timestamp'].dt.to_period('M')\n",
    "    months = data['month'].astype(str).unique()\n",
    "    \n",
    "    if len(months) < 4:\n",
    "        raise ValueError(\"Not enough distinct months to split into global and client data.\")\n",
    "    \n",
    "    months.sort()\n",
    "    first_two_months = months[:2]\n",
    "    last_two_months = months[-2:]\n",
    "    \n",
    "    global_data = data[data['month'].astype(str).isin(first_two_months)]\n",
    "    client1_data = data[data['month'].astype(str) == last_two_months[0]]\n",
    "    client2_data = data[data['month'].astype(str) == last_two_months[1]]\n",
    "    \n",
    "    if global_data.empty or client1_data.empty or client2_data.empty:\n",
    "        raise ValueError(\"One or more of the filtered datasets are empty.\")\n",
    "    \n",
    "    return global_data, client1_data, client2_data\n",
    "\n",
    "def create_gru_model(input_shape):\n",
    "    inputs = Input(shape=input_shape)\n",
    "    x = GRU(64, return_sequences=True)(inputs)\n",
    "    x = Dropout(0.2)(x)\n",
    "    x = GRU(32)(x)\n",
    "    x = Dense(50, activation='relu')(x)\n",
    "    x = Dropout(0.2)(x)\n",
    "    outputs = Dense(1, activation='sigmoid')(x)\n",
    "    \n",
    "    model = Model(inputs, outputs)\n",
    "    model.compile(optimizer='adam', loss='binary_crossentropy', metrics=['accuracy'])\n",
    "    \n",
    "    return model\n",
    "\n",
    "def measure_communication_time(func, *args, **kwargs):\n",
    "    start_time = time.time()\n",
    "    result = func(*args, **kwargs)\n",
    "    elapsed_time = time.time() - start_time\n",
    "    return result, elapsed_time\n",
    "\n",
    "def federated_learning(global_data, client1_data, client2_data):\n",
    "    print(\"Preparing global data...\")\n",
    "    X_global, y_global = prepare_features_and_labels(global_data)\n",
    "    X_global, y_global = balance_and_sample(X_global, y_global, sample_fraction=0.4)\n",
    "    \n",
    "    print(\"Preparing client data...\")\n",
    "    X_client1, y_client1 = prepare_features_and_labels(client1_data)\n",
    "    X_client2, y_client2 = prepare_features_and_labels(client2_data)\n",
    "    X_client1, y_client1 = balance_and_sample(X_client1, y_client1, sample_fraction=0.4)\n",
    "    X_client2, y_client2 = balance_and_sample(X_client2, y_client2, sample_fraction=0.4)\n",
    "    \n",
    "    X_global = X_global[:, np.newaxis, :]\n",
    "    X_client1 = X_client1[:, np.newaxis, :]\n",
    "    X_client2 = X_client2[:, np.newaxis, :]\n",
    "    \n",
    "    print(\"Creating and training global model...\")\n",
    "    model = create_gru_model(input_shape=(X_global.shape[1], X_global.shape[2]))\n",
    "    _, train_time_global = measure_communication_time(model.fit, X_global, y_global, epochs=10, batch_size=32, verbose=2)\n",
    "    print(f\"Time to train global model: {train_time_global:.2f} seconds.\")\n",
    "    \n",
    "    client_data = [\n",
    "        (X_client1, y_client1, \"Client 1\"),\n",
    "        (X_client2, y_client2, \"Client 2\")\n",
    "    ]\n",
    "    \n",
    "    print(\"Fine-tuning model on client data...\")\n",
    "    for X_client, y_client, client_name in tqdm(client_data, desc=\"Clients\", unit=\"client\"):\n",
    "        print(f\"Fine-tuning on {client_name}...\")\n",
    "        \n",
    "        def train_func():\n",
    "            model.fit(X_client, y_client, epochs=5, batch_size=32, verbose=2)\n",
    "        \n",
    "        _, update_time = measure_communication_time(train_func)\n",
    "        print(f\"Time to fine-tune on {client_name}: {update_time:.2f} seconds.\")\n",
    "    \n",
    "    print(\"Evaluating the updated global model...\")\n",
    "    y_global_pred = (model.predict(X_global) > 0.5).astype(int)\n",
    "    print(\"Model Classification Report:\")\n",
    "    print(classification_report(y_global, y_global_pred))\n",
    "    print(\"Model Accuracy Score:\", accuracy_score(y_global, y_global_pred))\n",
    "    \n",
    "    print(\"Federated learning completed.\")\n",
    "    return train_time_global, update_time\n",
    "\n",
    "file_path = 'Metro-Both-Classes.csv'\n",
    "data = load_and_preprocess_data(file_path)\n",
    "global_data, client1_data, client2_data = preprocess_data(data)\n",
    "train_time_global_no_compression, update_time_no_compression = federated_learning(global_data, client1_data, client2_data)\n"
   ]
  },
  {
   "cell_type": "code",
   "execution_count": 9,
   "metadata": {},
   "outputs": [
    {
     "name": "stdout",
     "output_type": "stream",
     "text": [
      "Preparing global data...\n",
      "Preparing client data...\n",
      "Creating and training global model...\n",
      "Epoch 1/10\n",
      "5145/5145 - 18s - 4ms/step - accuracy: 0.9730 - loss: 0.0551\n",
      "Epoch 2/10\n",
      "5145/5145 - 13s - 3ms/step - accuracy: 0.9788 - loss: 0.0425\n",
      "Epoch 3/10\n",
      "5145/5145 - 14s - 3ms/step - accuracy: 0.9887 - loss: 0.0286\n",
      "Epoch 4/10\n",
      "5145/5145 - 13s - 3ms/step - accuracy: 0.9906 - loss: 0.0251\n",
      "Epoch 5/10\n",
      "5145/5145 - 13s - 3ms/step - accuracy: 0.9919 - loss: 0.0223\n",
      "Epoch 6/10\n",
      "5145/5145 - 13s - 3ms/step - accuracy: 0.9930 - loss: 0.0205\n",
      "Epoch 7/10\n",
      "5145/5145 - 14s - 3ms/step - accuracy: 0.9932 - loss: 0.0197\n",
      "Epoch 8/10\n",
      "5145/5145 - 13s - 3ms/step - accuracy: 0.9932 - loss: 0.0203\n",
      "Epoch 9/10\n",
      "5145/5145 - 16s - 3ms/step - accuracy: 0.9945 - loss: 0.0174\n",
      "Epoch 10/10\n",
      "5145/5145 - 17s - 3ms/step - accuracy: 0.9944 - loss: 0.0176\n",
      "Time to train global model: 143.64 seconds.\n",
      "Fine-tuning model on client data with gradient compression...\n"
     ]
    },
    {
     "name": "stderr",
     "output_type": "stream",
     "text": [
      "Clients:   0%|          | 0/2 [00:00<?, ?client/s]"
     ]
    },
    {
     "name": "stdout",
     "output_type": "stream",
     "text": [
      "Fine-tuning on Client 1 with gradient compression...\n",
      "Epoch 1/5\n",
      "2707/2707 - 7s - 3ms/step - accuracy: 0.9973 - loss: 0.0094\n",
      "Epoch 2/5\n",
      "2707/2707 - 10s - 4ms/step - accuracy: 0.9981 - loss: 0.0056\n",
      "Epoch 3/5\n",
      "2707/2707 - 7s - 3ms/step - accuracy: 0.9985 - loss: 0.0051\n",
      "Epoch 4/5\n",
      "2707/2707 - 7s - 3ms/step - accuracy: 0.9984 - loss: 0.0053\n",
      "Epoch 5/5\n",
      "2707/2707 - 6s - 2ms/step - accuracy: 0.9986 - loss: 0.0050\n",
      "Time to fine-tune on Client 1: 36.78 seconds.\n"
     ]
    },
    {
     "name": "stderr",
     "output_type": "stream",
     "text": [
      "Clients:  50%|█████     | 1/2 [00:37<00:37, 37.66s/client]"
     ]
    },
    {
     "name": "stdout",
     "output_type": "stream",
     "text": [
      "Compressed gradients size for Client 1: 25509\n",
      "Fine-tuning on Client 2 with gradient compression...\n",
      "Epoch 1/5\n",
      "2783/2783 - 10s - 4ms/step - accuracy: 0.9962 - loss: 0.0121\n",
      "Epoch 2/5\n",
      "2783/2783 - 11s - 4ms/step - accuracy: 0.9981 - loss: 0.0067\n",
      "Epoch 3/5\n",
      "2783/2783 - 6s - 2ms/step - accuracy: 0.9983 - loss: 0.0061\n",
      "Epoch 4/5\n",
      "2783/2783 - 6s - 2ms/step - accuracy: 0.9981 - loss: 0.0061\n",
      "Epoch 5/5\n",
      "2783/2783 - 6s - 2ms/step - accuracy: 0.9983 - loss: 0.0057\n",
      "Time to fine-tune on Client 2: 39.61 seconds.\n"
     ]
    },
    {
     "name": "stderr",
     "output_type": "stream",
     "text": [
      "Clients: 100%|██████████| 2/2 [01:17<00:00, 38.97s/client]"
     ]
    },
    {
     "name": "stdout",
     "output_type": "stream",
     "text": [
      "Compressed gradients size for Client 2: 25509\n",
      "Evaluating the updated global model...\n"
     ]
    },
    {
     "name": "stderr",
     "output_type": "stream",
     "text": [
      "\n"
     ]
    },
    {
     "name": "stdout",
     "output_type": "stream",
     "text": [
      "\u001b[1m5145/5145\u001b[0m \u001b[32m━━━━━━━━━━━━━━━━━━━━\u001b[0m\u001b[37m\u001b[0m \u001b[1m7s\u001b[0m 1ms/step\n",
      "Model Classification Report:\n",
      "              precision    recall  f1-score   support\n",
      "\n",
      "           0       0.97      1.00      0.99    160227\n",
      "           1       0.00      0.00      0.00      4386\n",
      "\n",
      "    accuracy                           0.97    164613\n",
      "   macro avg       0.49      0.50      0.49    164613\n",
      "weighted avg       0.95      0.97      0.96    164613\n",
      "\n",
      "Model Accuracy Score: 0.9733556887973611\n",
      "Federated learning with gradient compression completed.\n"
     ]
    },
    {
     "name": "stderr",
     "output_type": "stream",
     "text": [
      "c:\\Users\\nandi\\anaconda3\\Lib\\site-packages\\sklearn\\metrics\\_classification.py:1509: UndefinedMetricWarning: Precision is ill-defined and being set to 0.0 in labels with no predicted samples. Use `zero_division` parameter to control this behavior.\n",
      "  _warn_prf(average, modifier, f\"{metric.capitalize()} is\", len(result))\n",
      "c:\\Users\\nandi\\anaconda3\\Lib\\site-packages\\sklearn\\metrics\\_classification.py:1509: UndefinedMetricWarning: Precision is ill-defined and being set to 0.0 in labels with no predicted samples. Use `zero_division` parameter to control this behavior.\n",
      "  _warn_prf(average, modifier, f\"{metric.capitalize()} is\", len(result))\n",
      "c:\\Users\\nandi\\anaconda3\\Lib\\site-packages\\sklearn\\metrics\\_classification.py:1509: UndefinedMetricWarning: Precision is ill-defined and being set to 0.0 in labels with no predicted samples. Use `zero_division` parameter to control this behavior.\n",
      "  _warn_prf(average, modifier, f\"{metric.capitalize()} is\", len(result))\n"
     ]
    }
   ],
   "source": [
    "def compress_gradients_sparsification(gradients, threshold=0.1):\n",
    "    compressed_gradients = []\n",
    "    for grad in gradients:\n",
    "        mask = tf.abs(grad) > threshold\n",
    "        compressed_gradients.append(tf.multiply(grad, tf.cast(mask, grad.dtype)))\n",
    "    return compressed_gradients\n",
    "\n",
    "def federated_learning_with_compression(global_data, client1_data, client2_data):\n",
    "    print(\"Preparing global data...\")\n",
    "    X_global, y_global = prepare_features_and_labels(global_data)\n",
    "    X_global, y_global = balance_and_sample(X_global, y_global, sample_fraction=0.4)\n",
    "    \n",
    "    print(\"Preparing client data...\")\n",
    "    X_client1, y_client1 = prepare_features_and_labels(client1_data)\n",
    "    X_client2, y_client2 = prepare_features_and_labels(client2_data)\n",
    "    X_client1, y_client1 = balance_and_sample(X_client1, y_client1, sample_fraction=0.4)\n",
    "    X_client2, y_client2 = balance_and_sample(X_client2, y_client2, sample_fraction=0.4)\n",
    "    \n",
    "    X_global = X_global[:, np.newaxis, :]\n",
    "    X_client1 = X_client1[:, np.newaxis, :]\n",
    "    X_client2 = X_client2[:, np.newaxis, :]\n",
    "    \n",
    "    print(\"Creating and training global model...\")\n",
    "    model = create_gru_model(input_shape=(X_global.shape[1], X_global.shape[2]))\n",
    "    _, train_time_global = measure_communication_time(model.fit, X_global, y_global, epochs=10, batch_size=32, verbose=2)\n",
    "    print(f\"Time to train global model: {train_time_global:.2f} seconds.\")\n",
    "    \n",
    "    client_data = [\n",
    "        (X_client1, y_client1, \"Client 1\"),\n",
    "        (X_client2, y_client2, \"Client 2\")\n",
    "    ]\n",
    "    \n",
    "    print(\"Fine-tuning model on client data with gradient compression...\")\n",
    "    for X_client, y_client, client_name in tqdm(client_data, desc=\"Clients\", unit=\"client\"):\n",
    "        print(f\"Fine-tuning on {client_name} with gradient compression...\")\n",
    "        \n",
    "        def train_func():\n",
    "            model.fit(X_client, y_client, epochs=5, batch_size=32, verbose=2)\n",
    "        \n",
    "        _, update_time = measure_communication_time(train_func)\n",
    "        print(f\"Time to fine-tune on {client_name}: {update_time:.2f} seconds.\")\n",
    "        \n",
    "        with tf.GradientTape() as tape:\n",
    "            logits = model(X_client, training=True)\n",
    "            y_client = tf.reshape(y_client, (-1, 1))\n",
    "            loss = tf.keras.losses.binary_crossentropy(y_client, logits)\n",
    "        \n",
    "        gradients = tape.gradient(loss, model.trainable_variables)\n",
    "        compressed_gradients = compress_gradients_sparsification(gradients)\n",
    "        print(f\"Compressed gradients size for {client_name}: {sum([tf.size(g).numpy() for g in compressed_gradients])}\")\n",
    "        \n",
    "        model.optimizer.apply_gradients(zip(compressed_gradients, model.trainable_variables))\n",
    "    \n",
    "    print(\"Evaluating the updated global model...\")\n",
    "    y_global_pred = (model.predict(X_global) > 0.5).astype(int)\n",
    "    print(\"Model Classification Report:\")\n",
    "    print(classification_report(y_global, y_global_pred))\n",
    "    print(\"Model Accuracy Score:\", accuracy_score(y_global, y_global_pred))\n",
    "    \n",
    "    print(\"Federated learning with gradient compression completed.\")\n",
    "    return train_time_global, update_time\n",
    "\n",
    "train_time_global_compression, update_time_compression = federated_learning_with_compression(global_data, client1_data, client2_data)\n"
   ]
  },
  {
   "cell_type": "code",
   "execution_count": 10,
   "metadata": {},
   "outputs": [
    {
     "data": {
      "image/png": "[encoded data removed]",
      "text/plain": [
       "<Figure size 1000x600 with 1 Axes>"
      ]
     },
     "metadata": {},
     "output_type": "display_data"
    }
   ],
   "source": [
    "methods = [\"No Compression\", \"With Compression\"]\n",
    "train_times = [train_time_global_no_compression, train_time_global_compression]\n",
    "update_times = [update_time_no_compression, update_time_compression]\n",
    "\n",
    "plt.figure(figsize=(10, 6))\n",
    "plt.barh(methods, train_times, color=['blue', 'green'])\n",
    "plt.xlabel(\"Training Time (seconds)\")\n",
    "plt.ylabel(\"Method\")\n",
    "plt.title(\"Comparison of Federated Learning Training Times with and without Gradient Compression\")\n",
    "plt.show()\n",
    "\n"
   ]
  }
 ],
 "metadata": {
  "kernelspec": {
   "display_name": "base",
   "language": "python",
   "name": "python3"
  },
  "language_info": {
   "codemirror_mode": {
    "name": "ipython",
    "version": 3
   },
   "file_extension": ".py",
   "mimetype": "text/x-python",
   "name": "python",
   "nbconvert_exporter": "python",
   "pygments_lexer": "ipython3",
   "version": "3.12.4"
  }
 },
 "nbformat": 4,
 "nbformat_minor": 2
}
